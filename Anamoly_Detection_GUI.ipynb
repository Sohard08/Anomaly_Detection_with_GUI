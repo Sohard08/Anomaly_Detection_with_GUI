{
 "cells": [
  {
   "cell_type": "markdown",
   "metadata": {},
   "source": [
    "Importing libraries"
   ]
  },
  {
   "cell_type": "code",
   "execution_count": 8,
   "metadata": {},
   "outputs": [],
   "source": [
    "import cv2\n",
    "import os\n",
    "import numpy as np\n",
    "import tkinter as tk\n",
    "from tkinter import Label, Button, TOP\n",
    "import easygui"
   ]
  },
  {
   "cell_type": "markdown",
   "metadata": {},
   "source": [
    "Loading Video and Video Frames"
   ]
  },
  {
   "cell_type": "code",
   "execution_count": 9,
   "metadata": {},
   "outputs": [],
   "source": [
    "def load_video_frames(video_file):\n",
    "    if not os.path.isfile(video_file):\n",
    "        raise FileNotFoundError(f\"Video file '{video_file}' not found.\")\n",
    "\n",
    "    video_cap = cv2.VideoCapture(video_file)\n",
    "    frames = []\n",
    "    while True:\n",
    "        ret, frame = video_cap.read()\n",
    "        if not ret:\n",
    "            break\n",
    "        frames.append(frame)\n",
    "    return frames"
   ]
  },
  {
   "cell_type": "markdown",
   "metadata": {},
   "source": [
    "Detecting the Anomalies"
   ]
  },
  {
   "cell_type": "code",
   "execution_count": 10,
   "metadata": {},
   "outputs": [],
   "source": [
    "def detect_anomalies(frames, threshold=400000):\n",
    "    anomalies = []\n",
    "    prev_frame = cv2.cvtColor(frames[0], cv2.COLOR_BGR2GRAY)\n",
    "    for i in range(1, len(frames)):\n",
    "        current_frame = cv2.cvtColor(frames[i], cv2.COLOR_BGR2GRAY)\n",
    "        frame_diff = cv2.absdiff(current_frame, prev_frame)\n",
    "        if np.sum(frame_diff) > threshold:\n",
    "            anomalies.append(i)\n",
    "        prev_frame = current_frame\n",
    "    return anomalies"
   ]
  },
  {
   "cell_type": "markdown",
   "metadata": {},
   "source": [
    "Drawing Bounding Boxes to depict anomalies"
   ]
  },
  {
   "cell_type": "code",
   "execution_count": 11,
   "metadata": {},
   "outputs": [],
   "source": [
    "def draw_bounding_boxes(frames, anomalies):\n",
    "    for frame_number in anomalies:\n",
    "        frame = frames[frame_number].copy()\n",
    "        cv2.rectangle(frame, (0, 0), (frame.shape[1], frame.shape[0]), (0, 0, 255), 8)\n",
    "        frames[frame_number] = frame\n",
    "    return frames"
   ]
  },
  {
   "cell_type": "markdown",
   "metadata": {},
   "source": [
    "Function to export the video with detected anomalies to local storage"
   ]
  },
  {
   "cell_type": "code",
   "execution_count": 12,
   "metadata": {},
   "outputs": [],
   "source": [
    "def export_video(frames, output_video_file, fps=30.0):\n",
    "    fourcc = cv2.VideoWriter_fourcc(*\"XVID\")\n",
    "    out = cv2.VideoWriter(output_video_file, fourcc, fps, (frames[0].shape[1], frames[0].shape[0]))\n",
    "    for frame in frames:\n",
    "        out.write(frame)\n",
    "    out.release()\n",
    "    print(f\"Video exported as: {output_video_file}\")"
   ]
  },
  {
   "cell_type": "markdown",
   "metadata": {},
   "source": [
    "Calling all the defined functions"
   ]
  },
  {
   "cell_type": "code",
   "execution_count": 13,
   "metadata": {},
   "outputs": [],
   "source": [
    "def upload_and_detect_anomalies():\n",
    "    video_path = easygui.fileopenbox(filetypes=[\"*.mp4\"])\n",
    "    if video_path:\n",
    "        frames = load_video_frames(video_path)\n",
    "\n",
    "        if not frames:\n",
    "            print(\"Error: No frames found in the video.\")\n",
    "            return\n",
    "\n",
    "        anomalies = detect_anomalies(frames)\n",
    "\n",
    "        if anomalies:\n",
    "            print(\"Anomalies detected at frames:\", anomalies)\n",
    "\n",
    "            frames_with_boxes = draw_bounding_boxes(frames.copy(), anomalies)\n",
    "\n",
    "            output_video_path = \"D:/Projects/Anomaly_detection_pro/newedit.mp4\"\n",
    "            export_video(frames_with_boxes, output_video_path)\n",
    "\n",
    "            print(\"Video with bounding boxes saved as:\", output_video_path)\n",
    "        else:\n",
    "            print(\"No anomalies detected in the video.\")"
   ]
  },
  {
   "cell_type": "markdown",
   "metadata": {},
   "source": [
    "GUI and main function"
   ]
  },
  {
   "cell_type": "code",
   "execution_count": 14,
   "metadata": {},
   "outputs": [
    {
     "name": "stdout",
     "output_type": "stream",
     "text": [
      "Anomalies detected at frames: [2, 3, 5, 59, 115, 118, 119, 123, 127, 130, 134, 139, 142, 143, 145, 149, 151, 154, 158, 159, 161, 163, 166, 167, 171, 175, 178, 179, 182, 183, 185, 187, 189, 190, 195, 196, 199, 202, 207, 209, 211, 214, 217, 218, 219, 221, 224, 225, 226, 227, 231, 232, 235, 238, 239, 242, 243, 245, 247, 249, 250, 255, 259, 262, 267, 269, 271, 274, 286, 289, 291, 295, 298, 299, 300, 303, 309, 315, 319, 322, 327, 329, 331, 333, 334, 338, 343, 344, 346, 351, 353, 355, 358, 361, 362, 363, 364, 365, 367, 370, 371, 374, 375, 379, 382, 386, 387, 389, 391, 393, 394, 398, 401, 403, 406, 407, 413, 415, 418, 419, 423, 425, 433, 435, 442, 449, 451, 495, 499, 523]\n",
      "Video exported as: D:/Projects/Anomaly_detection_pro/newedit.mp4\n",
      "Video with bounding boxes saved as: D:/Projects/Anomaly_detection_pro/newedit.mp4\n"
     ]
    }
   ],
   "source": [
    "def anomaly_detection_gui():\n",
    "    top = tk.Tk()\n",
    "    top.geometry('600x400')\n",
    "    top.title('Anomaly Detection')\n",
    "    top.configure(background='white')\n",
    "\n",
    "    label = Label(top, background='#15d6b9', font=('calibri', 18, 'bold'))\n",
    "\n",
    "    upload_button = Button(top, text=\"Upload Video\",\n",
    "                           command=upload_and_detect_anomalies, padx=10, pady=5)\n",
    "    upload_button.configure(background='#2dc8e3', foreground='white',\n",
    "                            font=('Cooper Std Black', 18, 'bold'))\n",
    "    upload_button.pack(side=TOP, pady=160)\n",
    "\n",
    "    top.mainloop()\n",
    "\n",
    "if __name__ == \"__main__\":\n",
    "    anomaly_detection_gui()"
   ]
  }
 ],
 "metadata": {
  "kernelspec": {
   "display_name": "Python 3",
   "language": "python",
   "name": "python3"
  },
  "language_info": {
   "codemirror_mode": {
    "name": "ipython",
    "version": 3
   },
   "file_extension": ".py",
   "mimetype": "text/x-python",
   "name": "python",
   "nbconvert_exporter": "python",
   "pygments_lexer": "ipython3",
   "version": "3.11.4"
  }
 },
 "nbformat": 4,
 "nbformat_minor": 2
}
